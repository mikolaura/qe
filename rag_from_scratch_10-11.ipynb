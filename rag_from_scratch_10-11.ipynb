{
 "cells": [
  {
   "cell_type": "code",
   "execution_count": 1,
   "id": "714229ad",
   "metadata": {},
   "outputs": [
    {
     "data": {
      "text/plain": [
       "True"
      ]
     },
     "execution_count": 1,
     "metadata": {},
     "output_type": "execute_result"
    }
   ],
   "source": [
    "import dotenv\n",
    "dotenv.load_dotenv()"
   ]
  },
  {
   "cell_type": "markdown",
   "id": "cf45dc70",
   "metadata": {},
   "source": [
    "# Part 10 Logical and Semantic routing"
   ]
  },
  {
   "cell_type": "code",
   "execution_count": 3,
   "id": "9aab9f06",
   "metadata": {},
   "outputs": [],
   "source": [
    "from typing import Literal\n",
    "\n",
    "from langchain_core. prompts import ChatPromptTemplate\n",
    "from langchain_core.pydantic_v1 import BaseModel, Field\n",
    "from langchain_google_genai import ChatGoogleGenerativeAI, GoogleGenerativeAIEmbeddings\n",
    "\n",
    "class RouteQuery(BaseModel):\n",
    "    \"\"\"Route a user query to the most revevant datasourse.\"\"\"\n",
    "    datasource: Literal['python_docs', 'js_docs', 'golang_docs'] = Field(\n",
    "        ...,\n",
    "        description=\"Given a user question choose which datasource would be most relevant for answering their question\"\n",
    "    )\n",
    "\n",
    "llm = ChatGoogleGenerativeAI(model=\"gemini-2.0-flash\")\n",
    "structured_llm = llm.with_structured_output(RouteQuery)\n",
    "\n",
    "system = \"\"\"You are an expert at running a user question to the appropriate data source.\n",
    "\n",
    "Based on the programing language the quesion is refering to, route it to the relevant data source.\"\"\"\n",
    "prompt = ChatPromptTemplate.from_messages(\n",
    "    [\n",
    "        ('system',system),\n",
    "        ('human',\"{question}\"),\n",
    "    ]\n",
    "\n",
    ")\n",
    "router = prompt | structured_llm"
   ]
  },
  {
   "cell_type": "code",
   "execution_count": 8,
   "id": "e27c93e5",
   "metadata": {},
   "outputs": [],
   "source": [
    "question = \"\"\"Why doesn't the following code work:\n",
    "\n",
    "from langchain_core.prompts import ChatPromptTemplate\n",
    "\n",
    "prompt = ChatPromptTemplate.from_messages([\"human\", \"speak in {language}\"])\n",
    "prompt.invoke(\"french\")\n",
    "\"\"\"\n",
    "\n",
    "result = router.invoke({\"question\": question})"
   ]
  },
  {
   "cell_type": "code",
   "execution_count": 10,
   "id": "f51da6c8",
   "metadata": {},
   "outputs": [
    {
     "data": {
      "text/plain": [
       "'python_docs'"
      ]
     },
     "execution_count": 10,
     "metadata": {},
     "output_type": "execute_result"
    }
   ],
   "source": [
    "result.datasource"
   ]
  },
  {
   "cell_type": "code",
   "execution_count": 11,
   "id": "b3a076b8",
   "metadata": {},
   "outputs": [],
   "source": [
    "def chose_route(result: RouteQuery):\n",
    "    if \"python_docs\" in result.datasource.lower():\n",
    "        return \"chain for python docs\"\n",
    "    elif \"js_docs\" in result.datasource.lower():\n",
    "        return \"chain for js_docs\"\n",
    "    else:\n",
    "        return \"golang_docs\"\n",
    "from langchain_core.runnables import RunnableLambda\n",
    "\n",
    "full_chain = router | RunnableLambda(chose_route)"
   ]
  },
  {
   "cell_type": "code",
   "execution_count": 12,
   "id": "e608dd80",
   "metadata": {},
   "outputs": [
    {
     "data": {
      "text/plain": [
       "'chain for python docs'"
      ]
     },
     "execution_count": 12,
     "metadata": {},
     "output_type": "execute_result"
    }
   ],
   "source": [
    "full_chain.invoke({\"question\":question})"
   ]
  },
  {
   "cell_type": "markdown",
   "id": "a2b7b791",
   "metadata": {},
   "source": [
    "## Semantic routing"
   ]
  },
  {
   "cell_type": "code",
   "execution_count": 13,
   "id": "9708659b",
   "metadata": {},
   "outputs": [
    {
     "name": "stdout",
     "output_type": "stream",
     "text": [
      "Using PHYSICS\n",
      "Ah, a black hole! A fascinating and mind-bending object.\n",
      "\n",
      "In simple terms, a black hole is a region in spacetime where gravity is so strong that nothing, not even light, can escape from it.\n",
      "\n",
      "Think of it this way:\n",
      "\n",
      "*   **Massive Compression:** Imagine taking a huge amount of matter and squeezing it into an incredibly tiny space. This creates an immense concentration of mass.\n",
      "*   **Gravity's Grip:** This immense concentration of mass warps spacetime around it, creating a gravitational pull that is inescapable beyond a certain point called the *event horizon*.\n",
      "*   **The Point of No Return:** The event horizon is like a boundary. Anything that crosses it is doomed to be pulled into the singularity at the center of the black hole, where our current understanding of physics breaks down.\n",
      "\n",
      "So, a black hole is essentially a region of spacetime with such strong gravity that nothing can escape its grasp. They are formed from the remains of very massive stars or through other extreme processes in the universe.\n"
     ]
    }
   ],
   "source": [
    "from langchain.utils.math import cosine_similarity\n",
    "from langchain_core.output_parsers import StrOutputParser\n",
    "from langchain_core.prompts import PromptTemplate\n",
    "from langchain_core.runnables import RunnableLambda, RunnablePassthrough\n",
    "\n",
    "# Two prompts\n",
    "physics_template = \"\"\"You are a very smart physics professor. \\\n",
    "You are great at answering questions about physics in a concise and easy to understand manner. \\\n",
    "When you don't know the answer to a question you admit that you don't know.\n",
    "\n",
    "Here is a question:\n",
    "{query}\"\"\"\n",
    "\n",
    "math_template = \"\"\"You are a very good mathematician. You are great at answering math questions. \\\n",
    "You are so good because you are able to break down hard problems into their component parts, \\\n",
    "answer the component parts, and then put them together to answer the broader question.\n",
    "\n",
    "Here is a question:\n",
    "{query}\"\"\"\n",
    "\n",
    "embeddings = GoogleGenerativeAIEmbeddings(model=\"models/embedding-001\")\n",
    "prompt_templates = [physics_template, math_template]\n",
    "prompt_embeddings = embeddings.embed_documents(prompt_templates)\n",
    "\n",
    "def prompt_router(input):\n",
    "    query_embeddings = embeddings.embed_query(input['query'])\n",
    "    similarity = cosine_similarity([query_embeddings], prompt_embeddings)[0]\n",
    "    most_similar = prompt_templates[similarity.argmax()]\n",
    "    print(\"USING MATH\" if most_similar == math_template else \"Using PHYSICS\")\n",
    "    return PromptTemplate.from_template(most_similar)\n",
    "\n",
    "chain = (\n",
    "    {'query': RunnablePassthrough()}\n",
    "    | RunnableLambda(prompt_router)\n",
    "    | llm\n",
    "    | StrOutputParser()\n",
    ")\n",
    "print(chain.invoke(\"What is a black hole\"))"
   ]
  },
  {
   "cell_type": "markdown",
   "id": "62b6ee11",
   "metadata": {},
   "source": [
    "# Query Structuring"
   ]
  },
  {
   "cell_type": "code",
   "execution_count": null,
   "id": "43dda835",
   "metadata": {},
   "outputs": [
    {
     "name": "stdout",
     "output_type": "stream",
     "text": [
      "Collecting youtube-transcript-api\n",
      "  Downloading youtube_transcript_api-1.0.3-py3-none-any.whl.metadata (23 kB)\n",
      "Requirement already satisfied: defusedxml<0.8.0,>=0.7.1 in c:\\users\\admin\\anaconda3\\envs\\nlpreserch\\lib\\site-packages (from youtube-transcript-api) (0.7.1)\n",
      "Requirement already satisfied: requests in c:\\users\\admin\\anaconda3\\envs\\nlpreserch\\lib\\site-packages (from youtube-transcript-api) (2.32.3)\n",
      "Requirement already satisfied: charset-normalizer<4,>=2 in c:\\users\\admin\\anaconda3\\envs\\nlpreserch\\lib\\site-packages (from requests->youtube-transcript-api) (3.3.2)\n",
      "Requirement already satisfied: idna<4,>=2.5 in c:\\users\\admin\\anaconda3\\envs\\nlpreserch\\lib\\site-packages (from requests->youtube-transcript-api) (3.7)\n",
      "Requirement already satisfied: urllib3<3,>=1.21.1 in c:\\users\\admin\\anaconda3\\envs\\nlpreserch\\lib\\site-packages (from requests->youtube-transcript-api) (2.2.2)\n",
      "Requirement already satisfied: certifi>=2017.4.17 in c:\\users\\admin\\anaconda3\\envs\\nlpreserch\\lib\\site-packages (from requests->youtube-transcript-api) (2024.7.4)\n",
      "Downloading youtube_transcript_api-1.0.3-py3-none-any.whl (2.2 MB)\n",
      "   ---------------------------------------- 0.0/2.2 MB ? eta -:--:--\n",
      "    --------------------------------------- 0.0/2.2 MB 1.3 MB/s eta 0:00:02\n",
      "   --- ------------------------------------ 0.2/2.2 MB 2.6 MB/s eta 0:00:01\n",
      "   --------- ------------------------------ 0.5/2.2 MB 3.9 MB/s eta 0:00:01\n",
      "   ------------------ --------------------- 1.0/2.2 MB 5.9 MB/s eta 0:00:01\n",
      "   ---------------------------- ----------- 1.5/2.2 MB 7.0 MB/s eta 0:00:01\n",
      "   -------------------------------------- - 2.1/2.2 MB 7.8 MB/s eta 0:00:01\n",
      "   ---------------------------------------  2.2/2.2 MB 8.1 MB/s eta 0:00:01\n",
      "   ---------------------------------------  2.2/2.2 MB 8.1 MB/s eta 0:00:01\n",
      "   ---------------------------------------  2.2/2.2 MB 8.1 MB/s eta 0:00:01\n",
      "   ---------------------------------------  2.2/2.2 MB 8.1 MB/s eta 0:00:01\n",
      "   ---------------------------------------- 2.2/2.2 MB 4.5 MB/s eta 0:00:00\n",
      "Installing collected packages: youtube-transcript-api\n",
      "Successfully installed youtube-transcript-api-1.0.3\n"
     ]
    }
   ],
   "source": [
    "!pip install youtube-transcript-api"
   ]
  },
  {
   "cell_type": "code",
   "execution_count": 18,
   "id": "19e1e5f5",
   "metadata": {},
   "outputs": [
    {
     "name": "stdout",
     "output_type": "stream",
     "text": [
      "Collecting pytube\n",
      "  Downloading pytube-15.0.0-py3-none-any.whl.metadata (5.0 kB)\n",
      "Downloading pytube-15.0.0-py3-none-any.whl (57 kB)\n",
      "   ---------------------------------------- 0.0/57.6 kB ? eta -:--:--\n",
      "   -------------- ------------------------- 20.5/57.6 kB 640.0 kB/s eta 0:00:01\n",
      "   ----------------------------------- ---- 51.2/57.6 kB 650.2 kB/s eta 0:00:01\n",
      "   ----------------------------------- ---- 51.2/57.6 kB 650.2 kB/s eta 0:00:01\n",
      "   ----------------------------------- ---- 51.2/57.6 kB 650.2 kB/s eta 0:00:01\n",
      "   ----------------------------------- ---- 51.2/57.6 kB 650.2 kB/s eta 0:00:01\n",
      "   ---------------------------------------- 57.6/57.6 kB 178.0 kB/s eta 0:00:00\n",
      "Installing collected packages: pytube\n",
      "Successfully installed pytube-15.0.0\n"
     ]
    }
   ],
   "source": [
    "!pip install pytube"
   ]
  },
  {
   "cell_type": "code",
   "execution_count": 27,
   "id": "dccd50c4",
   "metadata": {},
   "outputs": [
    {
     "name": "stdout",
     "output_type": "stream",
     "text": [
      "Note: you may need to restart the kernel to use updated packages.\n",
      "Note: you may need to restart the kernel to use updated packages.\n",
      "Note: you may need to restart the kernel to use updated packages.\n"
     ]
    }
   ],
   "source": [
    "%pip install --upgrade --quiet  yt_dlp\n",
    "%pip install --upgrade --quiet  pydub\n",
    "%pip install --upgrade --quiet  librosa"
   ]
  },
  {
   "cell_type": "code",
   "execution_count": 39,
   "id": "434a6560",
   "metadata": {},
   "outputs": [
    {
     "ename": "ParseError",
     "evalue": "no element found: line 1, column 0 (<string>)",
     "output_type": "error",
     "traceback": [
      "Traceback \u001b[1;36m(most recent call last)\u001b[0m:\n",
      "\u001b[1;36m  File \u001b[1;32mc:\\Users\\Admin\\anaconda3\\envs\\nlpReserch\\Lib\\xml\\etree\\ElementTree.py:1728\u001b[1;36m in \u001b[1;35mclose\u001b[1;36m\n\u001b[1;33m    self.parser.Parse(b\"\", True) # end of data\u001b[1;36m\n",
      "\u001b[1;31mExpatError\u001b[0m\u001b[1;31m:\u001b[0m no element found: line 1, column 0\n",
      "\nDuring handling of the above exception, another exception occurred:\n",
      "Traceback \u001b[1;36m(most recent call last)\u001b[0m:\n",
      "\u001b[0m  File \u001b[0;32mc:\\Users\\Admin\\anaconda3\\envs\\nlpReserch\\Lib\\site-packages\\IPython\\core\\interactiveshell.py:3577\u001b[0m in \u001b[0;35mrun_code\u001b[0m\n    exec(code_obj, self.user_global_ns, self.user_ns)\u001b[0m\n",
      "\u001b[0m  Cell \u001b[0;32mIn[39], line 5\u001b[0m\n    ).load()\u001b[0m\n",
      "\u001b[0m  File \u001b[0;32mc:\\Users\\Admin\\anaconda3\\envs\\nlpReserch\\Lib\\site-packages\\langchain_community\\document_loaders\\youtube.py:273\u001b[0m in \u001b[0;35mload\u001b[0m\n    transcript_pieces: List[Dict[str, Any]] = transcript.fetch()\u001b[0m\n",
      "\u001b[0m  File \u001b[0;32mc:\\Users\\Admin\\anaconda3\\envs\\nlpReserch\\Lib\\site-packages\\youtube_transcript_api\\_transcripts.py:134\u001b[0m in \u001b[0;35mfetch\u001b[0m\n    snippets = _TranscriptParser(preserve_formatting=preserve_formatting).parse(\u001b[0m\n",
      "\u001b[0m  File \u001b[0;32mc:\\Users\\Admin\\anaconda3\\envs\\nlpReserch\\Lib\\site-packages\\youtube_transcript_api\\_transcripts.py:474\u001b[0m in \u001b[0;35mparse\u001b[0m\n    for xml_element in ElementTree.fromstring(raw_data)\u001b[0m\n",
      "\u001b[0m  File \u001b[0;32mc:\\Users\\Admin\\anaconda3\\envs\\nlpReserch\\Lib\\site-packages\\defusedxml\\common.py:127\u001b[0m in \u001b[0;35mfromstring\u001b[0m\n    return parser.close()\u001b[0m\n",
      "\u001b[0m  File \u001b[0;32mc:\\Users\\Admin\\anaconda3\\envs\\nlpReserch\\Lib\\xml\\etree\\ElementTree.py:1730\u001b[0m in \u001b[0;35mclose\u001b[0m\n    self._raiseerror(v)\u001b[0m\n",
      "\u001b[1;36m  File \u001b[1;32mc:\\Users\\Admin\\anaconda3\\envs\\nlpReserch\\Lib\\xml\\etree\\ElementTree.py:1630\u001b[1;36m in \u001b[1;35m_raiseerror\u001b[1;36m\n\u001b[1;33m    raise err\u001b[1;36m\n",
      "\u001b[1;36m  File \u001b[1;32m<string>\u001b[1;36m\u001b[0m\n\u001b[1;31mParseError\u001b[0m\u001b[1;31m:\u001b[0m no element found: line 1, column 0\n"
     ]
    }
   ],
   "source": [
    "from langchain_community.document_loaders import YoutubeLoader\n",
    "\n",
    "docs = YoutubeLoader.from_youtube_url(\n",
    "    \"https://www.youtube.com/watch?v=HdafI0t3sEY\"\n",
    ").load()\n",
    "\n",
    "docs[0].metadata"
   ]
  },
  {
   "cell_type": "code",
   "execution_count": null,
   "id": "3b121ba0",
   "metadata": {},
   "outputs": [],
   "source": []
  }
 ],
 "metadata": {
  "kernelspec": {
   "display_name": "nlpReserch",
   "language": "python",
   "name": "python3"
  },
  "language_info": {
   "codemirror_mode": {
    "name": "ipython",
    "version": 3
   },
   "file_extension": ".py",
   "mimetype": "text/x-python",
   "name": "python",
   "nbconvert_exporter": "python",
   "pygments_lexer": "ipython3",
   "version": "3.11.9"
  }
 },
 "nbformat": 4,
 "nbformat_minor": 5
}
