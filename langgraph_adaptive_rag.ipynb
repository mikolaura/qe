{
 "cells": [
  {
   "cell_type": "code",
   "execution_count": 1,
   "id": "ea882ddd",
   "metadata": {},
   "outputs": [
    {
     "name": "stdout",
     "output_type": "stream",
     "text": [
      "Requirement already satisfied: langchain-cohere in c:\\users\\admin\\anaconda3\\envs\\nlpreserch\\lib\\site-packages (0.4.4)\n",
      "Requirement already satisfied: cohere<6.0,>=5.12.0 in c:\\users\\admin\\anaconda3\\envs\\nlpreserch\\lib\\site-packages (from langchain-cohere) (5.15.0)\n",
      "Requirement already satisfied: langchain-community<0.4.0,>=0.3.0 in c:\\users\\admin\\anaconda3\\envs\\nlpreserch\\lib\\site-packages (from langchain-cohere) (0.3.13)\n",
      "Requirement already satisfied: langchain-core<0.4.0,>=0.3.27 in c:\\users\\admin\\anaconda3\\envs\\nlpreserch\\lib\\site-packages (from langchain-cohere) (0.3.63)\n",
      "Requirement already satisfied: pydantic<3,>=2 in c:\\users\\admin\\anaconda3\\envs\\nlpreserch\\lib\\site-packages (from langchain-cohere) (2.8.2)\n",
      "Requirement already satisfied: types-pyyaml<7.0.0.0,>=6.0.12.20240917 in c:\\users\\admin\\anaconda3\\envs\\nlpreserch\\lib\\site-packages (from langchain-cohere) (6.0.12.20250516)\n",
      "Requirement already satisfied: fastavro<2.0.0,>=1.9.4 in c:\\users\\admin\\anaconda3\\envs\\nlpreserch\\lib\\site-packages (from cohere<6.0,>=5.12.0->langchain-cohere) (1.11.1)\n",
      "Requirement already satisfied: httpx>=0.21.2 in c:\\users\\admin\\anaconda3\\envs\\nlpreserch\\lib\\site-packages (from cohere<6.0,>=5.12.0->langchain-cohere) (0.27.0)\n",
      "Requirement already satisfied: httpx-sse==0.4.0 in c:\\users\\admin\\anaconda3\\envs\\nlpreserch\\lib\\site-packages (from cohere<6.0,>=5.12.0->langchain-cohere) (0.4.0)\n",
      "Requirement already satisfied: pydantic-core<3.0.0,>=2.18.2 in c:\\users\\admin\\anaconda3\\envs\\nlpreserch\\lib\\site-packages (from cohere<6.0,>=5.12.0->langchain-cohere) (2.20.1)\n",
      "Requirement already satisfied: requests<3.0.0,>=2.0.0 in c:\\users\\admin\\anaconda3\\envs\\nlpreserch\\lib\\site-packages (from cohere<6.0,>=5.12.0->langchain-cohere) (2.32.3)\n",
      "Requirement already satisfied: tokenizers<1,>=0.15 in c:\\users\\admin\\anaconda3\\envs\\nlpreserch\\lib\\site-packages (from cohere<6.0,>=5.12.0->langchain-cohere) (0.19.1)\n",
      "Requirement already satisfied: types-requests<3.0.0,>=2.0.0 in c:\\users\\admin\\anaconda3\\envs\\nlpreserch\\lib\\site-packages (from cohere<6.0,>=5.12.0->langchain-cohere) (2.32.4.20250611)\n",
      "Requirement already satisfied: typing_extensions>=4.0.0 in c:\\users\\admin\\anaconda3\\envs\\nlpreserch\\lib\\site-packages (from cohere<6.0,>=5.12.0->langchain-cohere) (4.11.0)\n",
      "Requirement already satisfied: PyYAML>=5.3 in c:\\users\\admin\\anaconda3\\envs\\nlpreserch\\lib\\site-packages (from langchain-community<0.4.0,>=0.3.0->langchain-cohere) (6.0.1)\n",
      "Requirement already satisfied: SQLAlchemy<3,>=1.4 in c:\\users\\admin\\anaconda3\\envs\\nlpreserch\\lib\\site-packages (from langchain-community<0.4.0,>=0.3.0->langchain-cohere) (2.0.31)\n",
      "Requirement already satisfied: aiohttp<4.0.0,>=3.8.3 in c:\\users\\admin\\anaconda3\\envs\\nlpreserch\\lib\\site-packages (from langchain-community<0.4.0,>=0.3.0->langchain-cohere) (3.9.5)\n",
      "Requirement already satisfied: dataclasses-json<0.7,>=0.5.7 in c:\\users\\admin\\anaconda3\\envs\\nlpreserch\\lib\\site-packages (from langchain-community<0.4.0,>=0.3.0->langchain-cohere) (0.6.7)\n",
      "Requirement already satisfied: langchain<0.4.0,>=0.3.13 in c:\\users\\admin\\anaconda3\\envs\\nlpreserch\\lib\\site-packages (from langchain-community<0.4.0,>=0.3.0->langchain-cohere) (0.3.13)\n",
      "Requirement already satisfied: langsmith<0.3,>=0.1.125 in c:\\users\\admin\\anaconda3\\envs\\nlpreserch\\lib\\site-packages (from langchain-community<0.4.0,>=0.3.0->langchain-cohere) (0.2.11)\n",
      "Requirement already satisfied: numpy<2,>=1.22.4 in c:\\users\\admin\\anaconda3\\envs\\nlpreserch\\lib\\site-packages (from langchain-community<0.4.0,>=0.3.0->langchain-cohere) (1.26.4)\n",
      "Requirement already satisfied: pydantic-settings<3.0.0,>=2.4.0 in c:\\users\\admin\\anaconda3\\envs\\nlpreserch\\lib\\site-packages (from langchain-community<0.4.0,>=0.3.0->langchain-cohere) (2.7.1)\n",
      "Requirement already satisfied: tenacity!=8.4.0,<10,>=8.1.0 in c:\\users\\admin\\anaconda3\\envs\\nlpreserch\\lib\\site-packages (from langchain-community<0.4.0,>=0.3.0->langchain-cohere) (8.5.0)\n",
      "Requirement already satisfied: jsonpatch<2.0,>=1.33 in c:\\users\\admin\\anaconda3\\envs\\nlpreserch\\lib\\site-packages (from langchain-core<0.4.0,>=0.3.27->langchain-cohere) (1.33)\n",
      "Requirement already satisfied: packaging<25,>=23.2 in c:\\users\\admin\\anaconda3\\envs\\nlpreserch\\lib\\site-packages (from langchain-core<0.4.0,>=0.3.27->langchain-cohere) (24.2)\n",
      "Requirement already satisfied: annotated-types>=0.4.0 in c:\\users\\admin\\anaconda3\\envs\\nlpreserch\\lib\\site-packages (from pydantic<3,>=2->langchain-cohere) (0.7.0)\n",
      "Requirement already satisfied: aiosignal>=1.1.2 in c:\\users\\admin\\anaconda3\\envs\\nlpreserch\\lib\\site-packages (from aiohttp<4.0.0,>=3.8.3->langchain-community<0.4.0,>=0.3.0->langchain-cohere) (1.3.1)\n",
      "Requirement already satisfied: attrs>=17.3.0 in c:\\users\\admin\\anaconda3\\envs\\nlpreserch\\lib\\site-packages (from aiohttp<4.0.0,>=3.8.3->langchain-community<0.4.0,>=0.3.0->langchain-cohere) (18.1.0)\n",
      "Requirement already satisfied: frozenlist>=1.1.1 in c:\\users\\admin\\anaconda3\\envs\\nlpreserch\\lib\\site-packages (from aiohttp<4.0.0,>=3.8.3->langchain-community<0.4.0,>=0.3.0->langchain-cohere) (1.4.1)\n",
      "Requirement already satisfied: multidict<7.0,>=4.5 in c:\\users\\admin\\anaconda3\\envs\\nlpreserch\\lib\\site-packages (from aiohttp<4.0.0,>=3.8.3->langchain-community<0.4.0,>=0.3.0->langchain-cohere) (6.0.5)\n",
      "Requirement already satisfied: yarl<2.0,>=1.0 in c:\\users\\admin\\anaconda3\\envs\\nlpreserch\\lib\\site-packages (from aiohttp<4.0.0,>=3.8.3->langchain-community<0.4.0,>=0.3.0->langchain-cohere) (1.9.4)\n",
      "Requirement already satisfied: marshmallow<4.0.0,>=3.18.0 in c:\\users\\admin\\anaconda3\\envs\\nlpreserch\\lib\\site-packages (from dataclasses-json<0.7,>=0.5.7->langchain-community<0.4.0,>=0.3.0->langchain-cohere) (3.23.2)\n",
      "Requirement already satisfied: typing-inspect<1,>=0.4.0 in c:\\users\\admin\\anaconda3\\envs\\nlpreserch\\lib\\site-packages (from dataclasses-json<0.7,>=0.5.7->langchain-community<0.4.0,>=0.3.0->langchain-cohere) (0.9.0)\n",
      "Requirement already satisfied: anyio in c:\\users\\admin\\anaconda3\\envs\\nlpreserch\\lib\\site-packages (from httpx>=0.21.2->cohere<6.0,>=5.12.0->langchain-cohere) (4.2.0)\n",
      "Requirement already satisfied: certifi in c:\\users\\admin\\anaconda3\\envs\\nlpreserch\\lib\\site-packages (from httpx>=0.21.2->cohere<6.0,>=5.12.0->langchain-cohere) (2024.7.4)\n",
      "Requirement already satisfied: httpcore==1.* in c:\\users\\admin\\anaconda3\\envs\\nlpreserch\\lib\\site-packages (from httpx>=0.21.2->cohere<6.0,>=5.12.0->langchain-cohere) (1.0.2)\n",
      "Requirement already satisfied: idna in c:\\users\\admin\\anaconda3\\envs\\nlpreserch\\lib\\site-packages (from httpx>=0.21.2->cohere<6.0,>=5.12.0->langchain-cohere) (3.7)\n",
      "Requirement already satisfied: sniffio in c:\\users\\admin\\anaconda3\\envs\\nlpreserch\\lib\\site-packages (from httpx>=0.21.2->cohere<6.0,>=5.12.0->langchain-cohere) (1.3.0)\n",
      "Requirement already satisfied: h11<0.15,>=0.13 in c:\\users\\admin\\anaconda3\\envs\\nlpreserch\\lib\\site-packages (from httpcore==1.*->httpx>=0.21.2->cohere<6.0,>=5.12.0->langchain-cohere) (0.14.0)\n",
      "Requirement already satisfied: jsonpointer>=1.9 in c:\\users\\admin\\anaconda3\\envs\\nlpreserch\\lib\\site-packages (from jsonpatch<2.0,>=1.33->langchain-core<0.4.0,>=0.3.27->langchain-cohere) (3.0.0)\n",
      "Requirement already satisfied: langchain-text-splitters<0.4.0,>=0.3.3 in c:\\users\\admin\\anaconda3\\envs\\nlpreserch\\lib\\site-packages (from langchain<0.4.0,>=0.3.13->langchain-community<0.4.0,>=0.3.0->langchain-cohere) (0.3.4)\n",
      "Requirement already satisfied: orjson<4.0.0,>=3.9.14 in c:\\users\\admin\\anaconda3\\envs\\nlpreserch\\lib\\site-packages (from langsmith<0.3,>=0.1.125->langchain-community<0.4.0,>=0.3.0->langchain-cohere) (3.10.6)\n",
      "Requirement already satisfied: requests-toolbelt<2.0.0,>=1.0.0 in c:\\users\\admin\\anaconda3\\envs\\nlpreserch\\lib\\site-packages (from langsmith<0.3,>=0.1.125->langchain-community<0.4.0,>=0.3.0->langchain-cohere) (1.0.0)\n",
      "Requirement already satisfied: python-dotenv>=0.21.0 in c:\\users\\admin\\anaconda3\\envs\\nlpreserch\\lib\\site-packages (from pydantic-settings<3.0.0,>=2.4.0->langchain-community<0.4.0,>=0.3.0->langchain-cohere) (1.0.1)\n",
      "Requirement already satisfied: charset-normalizer<4,>=2 in c:\\users\\admin\\anaconda3\\envs\\nlpreserch\\lib\\site-packages (from requests<3.0.0,>=2.0.0->cohere<6.0,>=5.12.0->langchain-cohere) (3.3.2)\n",
      "Requirement already satisfied: urllib3<3,>=1.21.1 in c:\\users\\admin\\anaconda3\\envs\\nlpreserch\\lib\\site-packages (from requests<3.0.0,>=2.0.0->cohere<6.0,>=5.12.0->langchain-cohere) (2.2.2)\n",
      "Requirement already satisfied: greenlet!=0.4.17 in c:\\users\\admin\\anaconda3\\envs\\nlpreserch\\lib\\site-packages (from SQLAlchemy<3,>=1.4->langchain-community<0.4.0,>=0.3.0->langchain-cohere) (3.1.1)\n",
      "Requirement already satisfied: huggingface-hub<1.0,>=0.16.4 in c:\\users\\admin\\anaconda3\\envs\\nlpreserch\\lib\\site-packages (from tokenizers<1,>=0.15->cohere<6.0,>=5.12.0->langchain-cohere) (0.24.5)\n",
      "Requirement already satisfied: filelock in c:\\users\\admin\\anaconda3\\envs\\nlpreserch\\lib\\site-packages (from huggingface-hub<1.0,>=0.16.4->tokenizers<1,>=0.15->cohere<6.0,>=5.12.0->langchain-cohere) (3.13.1)\n",
      "Requirement already satisfied: fsspec>=2023.5.0 in c:\\users\\admin\\anaconda3\\envs\\nlpreserch\\lib\\site-packages (from huggingface-hub<1.0,>=0.16.4->tokenizers<1,>=0.15->cohere<6.0,>=5.12.0->langchain-cohere) (2024.6.1)\n",
      "Requirement already satisfied: tqdm>=4.42.1 in c:\\users\\admin\\anaconda3\\envs\\nlpreserch\\lib\\site-packages (from huggingface-hub<1.0,>=0.16.4->tokenizers<1,>=0.15->cohere<6.0,>=5.12.0->langchain-cohere) (4.66.4)\n",
      "Requirement already satisfied: mypy-extensions>=0.3.0 in c:\\users\\admin\\anaconda3\\envs\\nlpreserch\\lib\\site-packages (from typing-inspect<1,>=0.4.0->dataclasses-json<0.7,>=0.5.7->langchain-community<0.4.0,>=0.3.0->langchain-cohere) (1.0.0)\n",
      "Requirement already satisfied: colorama in c:\\users\\admin\\anaconda3\\envs\\nlpreserch\\lib\\site-packages (from tqdm>=4.42.1->huggingface-hub<1.0,>=0.16.4->tokenizers<1,>=0.15->cohere<6.0,>=5.12.0->langchain-cohere) (0.4.6)\n"
     ]
    }
   ],
   "source": [
    "!pip install langchain-cohere"
   ]
  },
  {
   "cell_type": "code",
   "execution_count": 2,
   "id": "849477cf",
   "metadata": {},
   "outputs": [
    {
     "data": {
      "text/plain": [
       "True"
      ]
     },
     "execution_count": 2,
     "metadata": {},
     "output_type": "execute_result"
    }
   ],
   "source": [
    "from dotenv import load_dotenv\n",
    "load_dotenv()"
   ]
  },
  {
   "cell_type": "code",
   "execution_count": null,
   "id": "e81acdbc",
   "metadata": {},
   "outputs": [],
   "source": []
  },
  {
   "cell_type": "code",
   "execution_count": 3,
   "id": "994f9e79",
   "metadata": {},
   "outputs": [
    {
     "name": "stderr",
     "output_type": "stream",
     "text": [
      "USER_AGENT environment variable not set, consider setting it to identify your requests.\n"
     ]
    }
   ],
   "source": [
    "### Build Index\n",
    "\n",
    "from langchain.text_splitter import RecursiveCharacterTextSplitter\n",
    "from langchain_cohere import CohereEmbeddings\n",
    "from langchain_community.document_loaders import WebBaseLoader\n",
    "from langchain_community.vectorstores import Chroma\n",
    "from langchain_google_genai import ChatGoogleGenerativeAI\n",
    "# Set embeddings\n",
    "embd = CohereEmbeddings(model=\"embed-v4.0\")\n",
    "\n",
    "# Docs to index\n",
    "urls = [\n",
    "    \"https://lilianweng.github.io/posts/2023-06-23-agent/\",\n",
    "    \"https://lilianweng.github.io/posts/2023-03-15-prompt-engineering/\",\n",
    "    \"https://lilianweng.github.io/posts/2023-10-25-adv-attack-llm/\",\n",
    "]\n",
    "\n",
    "# Load\n",
    "docs = [WebBaseLoader(url).load() for url in urls]\n",
    "docs_list = [item for sublist in docs for item in sublist]\n",
    "\n",
    "text_splitter = RecursiveCharacterTextSplitter.from_tiktoken_encoder(\n",
    "    chunk_size=512/2,\n",
    "    chunk_overlap=0\n",
    ")\n",
    "\n",
    "doc_splits = text_splitter.split_documents(docs_list)\n",
    "\n",
    "vectorstore = Chroma.from_documents(\n",
    "    documents=doc_splits,\n",
    "    embedding=embd\n",
    ")\n",
    "\n",
    "retriever = vectorstore.as_retriever()"
   ]
  },
  {
   "cell_type": "code",
   "execution_count": null,
   "id": "f8148694",
   "metadata": {},
   "outputs": [],
   "source": []
  },
  {
   "cell_type": "code",
   "execution_count": 29,
   "id": "7049f57b",
   "metadata": {},
   "outputs": [
    {
     "name": "stdout",
     "output_type": "stream",
     "text": [
      "[{'id': 'web_search_bgzf7ff1sm88', 'type': 'function', 'function': {'name': 'web_search', 'arguments': '{\"query\":\"who will the bears pick first in the NFL draft\"}'}}]\n"
     ]
    }
   ],
   "source": [
    "from typing import Literal\n",
    "\n",
    "from langchain_core.prompts import ChatPromptTemplate\n",
    "from langchain_cohere import ChatCohere\n",
    "from pydantic import BaseModel, Field\n",
    "\n",
    "# Data Model\n",
    "class web_search(BaseModel):\n",
    "    \"\"\"\n",
    "    The internet. Use web_search for questions that are related to anything else than agents, prompt engineering, and adversarial attacks.\n",
    "    \"\"\"\n",
    "\n",
    "    query: str = Field(description=\"The query to use when searching the internet.\")\n",
    "\n",
    "\n",
    "class vectorstore(BaseModel):\n",
    "    \"\"\"\n",
    "    A vectorstore containing documents related to agents, prompt engineering, and adversarial attacks. Use the vectorstore for questions on these topics.\n",
    "    \"\"\"\n",
    "\n",
    "    query: str = Field(description=\"The query to use when searching the vectorstore.\")\n",
    "\n",
    "preamble = \"\"\"You are an expert at routing a user question to a vectorstore or web search.\n",
    "The vectorstore contains documents related to agents, prompt engineering, and adversarial attacks.\n",
    "Use the vectorstore for questions related to these topics. Otherwise, use web-search\"\"\"\n",
    "\n",
    "llm = ChatCohere(model=\"command-r\", temperature=0)\n",
    "structured_llm_router = llm.bind_tools(\n",
    "    tools=[web_search, vectorstore], preamble=preamble\n",
    ")\n",
    "\n",
    "# Prompt\n",
    "route_prompt = ChatPromptTemplate.from_messages(\n",
    "    [\n",
    "        (\"human\", \"{question}\"),\n",
    "    ]\n",
    ")\n",
    "\n",
    "question_router = route_prompt | structured_llm_router\n",
    "response = question_router.invoke(\n",
    "    {\"question\": \"Who will the Bears draft first in the NFL draft?\"}\n",
    ")\n",
    "response = question_router.invoke({\"question\": \"Who wil the Bears draft first in the NFL draft\"})\n",
    "print(response.additional_kwargs[\"tool_calls\"])\n",
    "\n",
    "response = question_router.invoke({\"question\": \"Hi how are you\"})\n"
   ]
  },
  {
   "cell_type": "code",
   "execution_count": 14,
   "id": "bb1cb049",
   "metadata": {},
   "outputs": [
    {
     "name": "stdout",
     "output_type": "stream",
     "text": [
      "binary_score='yes'\n"
     ]
    }
   ],
   "source": [
    "from langchain_core.utils.function_calling import convert_to_openai_tool\n",
    "from langchain_google_genai import ChatGoogleGenerativeAI\n",
    "from pydantic import BaseModel, Field\n",
    "\n",
    "# Data model\n",
    "class GradeDocuments(BaseModel):\n",
    "    \"\"\"Binary score for relevance check on retrieved documents.\"\"\"\n",
    "    binary_score: str = Field(description=\"Documents are relevant to the question, 'yes' or 'no'\")\n",
    "# Prompt\n",
    "preamble = \"\"\"You are a grader assessing relevance of a retrieved document to a user question. \\n\n",
    "If the document contains keyword(s) or semantic meaning related to the user question, grade it as relevant. \\n\n",
    "Give a binary score 'yes' or 'no' score to indicate whether the document is relevant to the question.\"\"\"\n",
    "\n",
    "# LLM with function call\n",
    "llm = ChatCohere(model=\"command-r\", temperature=0)\n",
    "structured_llm_grader = llm.with_structured_output(GradeDocuments)\n",
    "\n",
    "grade_prompt = ChatPromptTemplate.from_messages(\n",
    "    [\n",
    "        (\"system\", preamble),\n",
    "        (\"human\", \"Retrieved document: \\n\\n {document} \\n\\n User question: {question}\"),\n",
    "    ]\n",
    ")\n",
    "\n",
    "retrieval_grader = grade_prompt | structured_llm_grader\n",
    "question = \"What is agents\"\n",
    "docs = retriever.invoke(question)\n",
    "doc_txt = docs[1].page_content\n",
    "response = retrieval_grader.invoke({\"question\": question, \"document\": doc_txt})\n",
    "print(response)"
   ]
  },
  {
   "cell_type": "code",
   "execution_count": null,
   "id": "21ce2719",
   "metadata": {},
   "outputs": [],
   "source": [
    "from langchain import hub\n",
    "from langchain_core.output_parsers import StrOutputParser\n",
    "import langchain\n",
    "from langchain_core.messages import HumanMessage\n",
    "# Preamble\n",
    "preamble = \"\"\"You are an assistant for question-answering tasks. Use the following pieces of retrieved context to answer the question. If you don't know the answer, just say that you don't know. Use three sentences maximum and keep the answer concise.\"\"\"\n",
    "\n",
    "# LLM\n",
    "llm = ChatCohere(model_name=\"command-r\", temperature=0).bind(preamble=preamble)\n",
    "\n",
    "prompt = lambda x: ChatPromptTemplate.from_messages(\n",
    "    [\n",
    "        HumanMessage(\n",
    "            f\"Question: {x['question']} \\nAnswer:\",\n",
    "            additional_kwargs={\"documents\":x['documents']},\n",
    "        )\n",
    "    ]\n",
    ")\n",
    "rag_chain = prompt | llm | StrOutputParser()\n",
    "\n",
    "generation = rag_chain.invoke({'question': question, \"documents\":docs})\n",
    "print(generation)\n"
   ]
  },
  {
   "cell_type": "code",
   "execution_count": 59,
   "id": "6ff08361",
   "metadata": {},
   "outputs": [
    {
     "data": {
      "text/plain": [
       "langchain_core.documents.base.Document"
      ]
     },
     "execution_count": 59,
     "metadata": {},
     "output_type": "execute_result"
    }
   ],
   "source": [
    "type(docs[0])"
   ]
  },
  {
   "cell_type": "code",
   "execution_count": 50,
   "id": "22382a1f",
   "metadata": {},
   "outputs": [
    {
     "name": "stdout",
     "output_type": "stream",
     "text": [
      "Hello! I'm an AI, so I don't have feelings, but I'm functioning well and ready to assist you. How can I help you today?\n"
     ]
    }
   ],
   "source": [
    "# LLM Fallback\n",
    "preamble = \"\"\"You are an assistant for question-answering tasks. Answer the question based upon your knowledge. Use three sentences maximum and keep the answer concise.\"\"\"\n",
    "\n",
    "llm = ChatCohere(model_name='command-r', temperature=0).bind(preamble=preamble)\n",
    "\n",
    "prompt = lambda x: ChatPromptTemplate.from_messages(\n",
    "    [\n",
    "        HumanMessage(\n",
    "            f\"Question: {x['question']} \\nAnswer\"\n",
    "        )\n",
    "    ]\n",
    ")\n",
    "\n",
    "llm_chain = prompt | llm | StrOutputParser()\n",
    "\n",
    "question = \"Hi how are you\"\n",
    "generation = llm_chain.invoke({\"question\":question})\n",
    "print(generation)"
   ]
  },
  {
   "cell_type": "code",
   "execution_count": 51,
   "id": "0c230ea6",
   "metadata": {},
   "outputs": [
    {
     "data": {
      "text/plain": [
       "GradeHallucinations(binary_score='yes')"
      ]
     },
     "execution_count": 51,
     "metadata": {},
     "output_type": "execute_result"
    }
   ],
   "source": [
    "### HHalucination Grader\n",
    "\n",
    "class GradeHallucinations(BaseModel):\n",
    "    \"\"\"Binary score for hallucination present in generation answer\"\"\"\n",
    "\n",
    "    binary_score: str = Field(description=\"Answer is grounded in the facts, 'yes' or 'no'\")\n",
    "\n",
    "preamble = \"\"\"You are a grader assessing whether an LLM generation is grounded in / supported by a set of retrieved facts. \\n\n",
    "Give a binary score 'yes' or 'no'. 'Yes' means that the answer is grounded in / supported by the set of facts.\"\"\"\n",
    "\n",
    "llm = ChatCohere(model='command-r', temperature=0)\n",
    "\n",
    "structured_llm_grader = llm.with_structured_output(GradeHallucinations)\n",
    "\n",
    "hallucination_prompt = ChatPromptTemplate.from_messages(\n",
    "    [\n",
    "        (\"system\", preamble),\n",
    "        (\"human\", \"Set of facts: \\n\\n {documents} \\n\\n LLM generation {generation}\")\n",
    "    ]\n",
    ")\n",
    "\n",
    "hallucination_grader = hallucination_prompt | structured_llm_grader\n",
    "hallucination_grader.invoke({'documents':docs, \"generation\":generation})"
   ]
  },
  {
   "cell_type": "code",
   "execution_count": 52,
   "id": "b6ba23a4",
   "metadata": {},
   "outputs": [
    {
     "data": {
      "text/plain": [
       "GradeAnswer(binary_score='yes')"
      ]
     },
     "execution_count": 52,
     "metadata": {},
     "output_type": "execute_result"
    }
   ],
   "source": [
    "# Data model\n",
    "class GradeAnswer(BaseModel):\n",
    "    \"\"\"Binary score to assess answer addresses question.\"\"\"\n",
    "\n",
    "    binary_score: str = Field(\n",
    "        description=\"Answer addresses the question, 'yes' or 'no'\"\n",
    "    )\n",
    "\n",
    "\n",
    "# Preamble\n",
    "preamble = \"\"\"You are a grader assessing whether an answer addresses / resolves a question \\n\n",
    "Give a binary score 'yes' or 'no'. Yes' means that the answer resolves the question.\"\"\"\n",
    "\n",
    "# LLM with function call\n",
    "llm = ChatCohere(model=\"command-r\", temperature=0)\n",
    "structured_llm_grader = llm.with_structured_output(GradeAnswer)\n",
    "\n",
    "# Prompt\n",
    "answer_prompt = ChatPromptTemplate.from_messages(\n",
    "    [\n",
    "        (\"system\", preamble),\n",
    "        (\"human\", \"User question: \\n\\n {question} \\n\\n LLM generation: {generation}\"),\n",
    "    ]\n",
    ")\n",
    "\n",
    "answer_grader = answer_prompt | structured_llm_grader\n",
    "answer_grader.invoke({\"question\": question, \"generation\": generation})"
   ]
  },
  {
   "cell_type": "code",
   "execution_count": 53,
   "id": "8b1265b9",
   "metadata": {},
   "outputs": [],
   "source": [
    "from langchain_community.tools.tavily_search import TavilySearchResults\n",
    "\n",
    "web_search_tool = TavilySearchResults()"
   ]
  },
  {
   "cell_type": "code",
   "execution_count": 69,
   "id": "c9f8564e",
   "metadata": {},
   "outputs": [],
   "source": [
    "\n",
    "from typing_extensions import TypedDict\n",
    "from typing import List\n",
    "\n",
    "class GraphState(TypedDict):\n",
    "    \"\"\"\n",
    "    Represents the state of our graph.\n",
    "    Attributes:\n",
    "        question: question\n",
    "        generation: LLM generation\n",
    "        docuemnts: list of documents\n",
    "    \"\"\"\n",
    "    question: str\n",
    "    generation: str\n",
    "    documents: List[str]\n",
    "\n",
    "from langchain.schema import Document\n",
    "\n",
    "def retrieve(state):\n",
    "    \"\"\"\n",
    "    Retrieve documents\n",
    "    Args:\n",
    "        state: the current graph state\n",
    "    Returns:\n",
    "        state: new key added to state, documents, that contains retrieved documents\n",
    "    \"\"\"\n",
    "    print(\"---RETRIEVE---\")\n",
    "    question = state['question']\n",
    "    documents = retriever.invoke(question)\n",
    "    return {\"documents\":documents, \"question\":question}\n",
    "\n",
    "def llm_fallback(state):\n",
    "    \"\"\"Generate answer using the LLM w/o vectorstore\n",
    "    Args:\n",
    "        state: the current graph state\n",
    "    Returns:\n",
    "        state: new key added to state, generation, that contains LLM generation\"\"\"\n",
    "    print(\"---LLM FALBACK---\")\n",
    "    question = state['question']\n",
    "    generation = llm_chain.invoke({\"question\":question})\n",
    "    return {\"question\": question, \"generation\":generation}\n",
    "\n",
    "def generate(state):\n",
    "    \"\"\"\n",
    "    Generate answer using the vectorstore\n",
    "    Args:\n",
    "        state: the current graph state\n",
    "    Returns:\n",
    "        state: New key added to state, documents, that contains retrieved documents\n",
    "    \"\"\"\n",
    "    print(\"---GENERATION---\")\n",
    "    question = state['question']\n",
    "    print(question)\n",
    "    documents = state['documents']\n",
    "    \n",
    "    if not isinstance(documents, list):\n",
    "        documents = [documents]\n",
    "    print(len(documents))\n",
    "    generation = rag_chain.invoke({'documents': documents, \"question\":question})\n",
    "    return {\"documents\": documents, \"question\":question, \"generation\":generation}\n",
    "\n",
    "def grade_documents(state):\n",
    "    \"\"\"\n",
    "    Determines whether the retrieved documents are relevant to the question.\n",
    "    Args:\n",
    "        state: the current graph state\n",
    "    Returns:\n",
    "        state: Updates documents key with only filtered relevant documents\"\"\"\n",
    "    print(\"---CHECK DOCUMENT RELEVANCE TO QUESTION---\")\n",
    "    question = state['question']\n",
    "    documents = state['documents']\n",
    "    \n",
    "    filtered_documents = []\n",
    "    for doc in documents:\n",
    "        score = retrieval_grader.invoke({'question':question, \"document\":doc.page_content})\n",
    "        grade = score.binary_score\n",
    "        if grade == \"yes\":\n",
    "            print(\"---GRADE: DOCUMENT RELEVANT---\")\n",
    "            filtered_documents.append(doc)\n",
    "        else:\n",
    "            print(\"---GRADE: DOCUMENT NOT RELEVANT---\")\n",
    "            continue\n",
    "    return {\"documents\":filtered_documents, \"question\":question}\n",
    "\n",
    "def web_search(state):\n",
    "    \"\"\"\n",
    "    Web search base on the re-phrased question\n",
    "    Args:\n",
    "        state: The current graph state\n",
    "    Returns: \n",
    "        state: Updates documents key with appended web results\"\"\"\n",
    "    question = state['question']\n",
    "    docs = web_search_tool.invoke({'query':question})\n",
    "    web_results = \"\\n\".join(d['content'] for d in docs)\n",
    "    web_results = Document(page_content=web_results)\n",
    "    return {\"documents\": web_results, \"question\":question}\n",
    "\n",
    "\n",
    "def route_question(state):\n",
    "    \"\"\"\n",
    "    Route question to web search or RAG\n",
    "    \n",
    "    Args: \n",
    "        state: The current graph state\n",
    "    Returns:\n",
    "        str: Next node to call\"\"\"\n",
    "    print(\"---ROUTE QUESTION---\")\n",
    "    question = state['question']\n",
    "    source = question_router.invoke({'question':question})\n",
    "    if \"tool_calls\" not in source.additional_kwargs:\n",
    "        print(\"---ROUTE QUESTION TO LLM---\")\n",
    "        return \"llm_fallback\"\n",
    "    if len(source.additional_kwargs['tool_calls']) == 0:\n",
    "        raise \"Router could not decide source\"\n",
    "    \n",
    "    datasource = source.additional_kwargs['tool_calls'][0]['function']['name']\n",
    "    if datasource == \"web_search\":\n",
    "        print(\"---ROUTE QUESTION TO WEB SEARCH---\")\n",
    "        return \"web_search\"\n",
    "    elif datasource == 'vectorstore':\n",
    "        print(\"---ROUTE QUESTION TO RAG---\")\n",
    "        return 'vectorstore'\n",
    "    else:\n",
    "        print(\"---ROUTE QUESTION TO LLM---\")\n",
    "        return \"llm_fallback\"\n",
    "    \n",
    "def decide_to_generate(state):\n",
    "    \"\"\"\n",
    "    Determines whether to generate an answer, or re-generate a question\n",
    "    Args: \n",
    "        state: The current graph state\n",
    "    Returns:\n",
    "        str: Binary decision for next node to call\"\"\"\n",
    "    print(\"---ASSESS GRADED DOCUMENTS---\")\n",
    "    question = state['question']\n",
    "    filtered_documents = state['documents']\n",
    "    if not filtered_documents:\n",
    "        print(\"---DECISION: ALL DOCUMENTS ARE NOT RELEVANT TO QUESTION, WEB SEARCH---\")\n",
    "        return 'web_search'\n",
    "    else:\n",
    "        print(\"---DECISION: GENERATE\")\n",
    "        return \"generate\"\n",
    "    \n",
    "def grade_generation_v_documents_and_question(state):\n",
    "    \"\"\"\n",
    "    Determines whether the generation is grounded in the document and answers question\n",
    "\n",
    "    Args: \n",
    "        state: The current graph state\n",
    "    Returns:\n",
    "        str: Decision for next node to call\n",
    "    \"\"\"\n",
    "    print('---CHECK HALLUCINATIONS---')\n",
    "    generation = state['generation']\n",
    "    documents=state['documents']\n",
    "    question=state['question']\n",
    "    score = hallucination_grader.invoke({'documents':documents, \"generation\":generation})\n",
    "    grade = score.binary_score\n",
    "\n",
    "    if grade==\"yes\":\n",
    "        print(\"---DECISION: GENERATION IS GROUNDED IN DOCUMENTS---\")\n",
    "        print(\"---GRADE GENERATION vs QUESTION---\")\n",
    "        score = answer_grader.invoke({'question':question, \"generation\":generation})\n",
    "        grade = score.binary_score\n",
    "        if grade == 'yes':\n",
    "            print(\"---DECISION: GENERATION ADDRESSES QUESTION\")\n",
    "            return 'useful'\n",
    "        else:\n",
    "            print(\"---DECISION: GENERATION DOES NOT ADDRESSES QUESTION\")\n",
    "            return 'not useful'\n",
    "    else:\n",
    "        print(\"---DECISION: GENERATION IS NOT GROUNDED IN DOCUMENTS, RE-TRY---\")\n",
    "        return \"not supported\"\n"
   ]
  },
  {
   "cell_type": "code",
   "execution_count": 70,
   "id": "eb1eb73e",
   "metadata": {},
   "outputs": [],
   "source": [
    "import pprint\n",
    "from langgraph.graph import END, StateGraph\n",
    "\n",
    "workflow = StateGraph(GraphState)\n",
    "\n",
    "workflow.add_node(\"web_search\", web_search)\n",
    "workflow.add_node('retrieve', retrieve)\n",
    "workflow.add_node('grade_documents', grade_documents)\n",
    "workflow.add_node(\"generate\", generate)\n",
    "workflow.add_node(\"llm_fallback\", llm_fallback)\n",
    "\n",
    "workflow.set_conditional_entry_point(\n",
    "    route_question,\n",
    "    {\n",
    "        'web_search':\"web_search\",\n",
    "        \"vectorstore\": \"retrieve\",\n",
    "        \"llm_fallback\":\"llm_fallback\",\n",
    "    }\n",
    ")\n",
    "workflow.add_edge(\"web_search\", \"generate\")\n",
    "workflow.add_edge('retrieve', \"grade_documents\")\n",
    "workflow.add_conditional_edges(\n",
    "    \"grade_documents\",\n",
    "    decide_to_generate,\n",
    "    {\n",
    "        \"web_search\":'web_search',\n",
    "        \"generate\": 'generate'\n",
    "    },\n",
    ")\n",
    "workflow.add_conditional_edges(\n",
    "    \"generate\",\n",
    "    grade_generation_v_documents_and_question,\n",
    "    {\n",
    "        'not supported': \"generate\",\n",
    "        \"not useful\": 'web_search',\n",
    "        'useful':END\n",
    "    }\n",
    ")\n",
    "workflow.add_edge('llm_fallback', END)\n",
    "app = workflow.compile()"
   ]
  },
  {
   "cell_type": "code",
   "execution_count": 71,
   "id": "02fa3dfd",
   "metadata": {},
   "outputs": [
    {
     "data": {
      "image/png": "[encoded data removed]",
      "text/plain": [
       "<IPython.core.display.Image object>"
      ]
     },
     "execution_count": 71,
     "metadata": {},
     "output_type": "execute_result"
    }
   ],
   "source": [
    "from IPython.display import Image\n",
    "Image(app.get_graph().draw_mermaid_png())"
   ]
  },
  {
   "cell_type": "code",
   "execution_count": 74,
   "id": "4fc37785",
   "metadata": {},
   "outputs": [
    {
     "name": "stdout",
     "output_type": "stream",
     "text": [
      "---ROUTE QUESTION---\n",
      "---ROUTE QUESTION TO WEB SEARCH---\n",
      "\"Node: 'web_search': \"\n",
      "'\\n---\\n'\n",
      "---GENERATION---\n",
      "What players are the Bears expected to draft first in the 2024 NFL draft?\n",
      "1\n",
      "---CHECK HALLUCINATIONS---\n",
      "---DECISION: GENERATION IS GROUNDED IN DOCUMENTS---\n",
      "---GRADE GENERATION vs QUESTION---\n",
      "---DECISION: GENERATION ADDRESSES QUESTION\n",
      "\"Node: 'generate': \"\n",
      "'\\n---\\n'\n",
      "('The Chicago Bears are expected to pick USC quarterback Caleb Williams at No. '\n",
      " '1 in the 2024 NFL Draft. The Williams pick has been assumed for months, but '\n",
      " 'Bears general manager Ryan Poles played coy in his pre-draft news '\n",
      " \"conference. The Bears acquired the pick from Carolina in last year's trade \"\n",
      " 'for the No. 1 overall pick in the 2023 draft.')\n"
     ]
    }
   ],
   "source": [
    "inputs = {\"question\": \"What players are the Bears expected to draft first in the 2024 NFL draft?\"}\n",
    "\n",
    "for output in app.stream(inputs):\n",
    "    for key, value in output.items():\n",
    "        pprint.pprint(f\"Node: '{key}': \")\n",
    "\n",
    "    pprint.pprint(\"\\n---\\n\")\n",
    "\n",
    "pprint.pprint(value['generation'])"
   ]
  },
  {
   "cell_type": "code",
   "execution_count": 67,
   "id": "8a058c7a",
   "metadata": {},
   "outputs": [
    {
     "name": "stdout",
     "output_type": "stream",
     "text": [
      "---ROUTE QUESTION---\n",
      "---ROUTE QUESTION TO RAG---\n",
      "---RETRIEVE---\n",
      "\"Node: 'retrieve': \"\n",
      "'\\n---\\n'\n",
      "---CHECK DOCUMENT RELEVANCE TO QUESTION---\n",
      "---GRADE: DOCUMENT RELEVANT---\n",
      "---GRADE: DOCUMENT RELEVANT---\n",
      "---GRADE: DOCUMENT RELEVANT---\n",
      "---GRADE: DOCUMENT RELEVANT---\n",
      "---ASSESS GRADED DOCUMENTS---\n",
      "---DECISION: GENERATE\n",
      "\"Node: 'grade_documents': \"\n",
      "'\\n---\\n'\n",
      "---GENERATION---\n",
      "What are the types of agent memory?\n",
      "4\n",
      "---CHECK HALLUCINATIONS---\n",
      "---DECISION: GENERATION IS GROUNDED IN DOCUMENTS---\n",
      "---GRADE GENERATION vs QUESTION---\n",
      "---DECISION: GENERATION ADDRESSES QUESTION\n",
      "\"Node: 'generate': \"\n",
      "'\\n---\\n'\n",
      "('The types of agent memory are sensory memory, short-term memory, and '\n",
      " 'long-term memory.')\n"
     ]
    }
   ],
   "source": [
    "inputs = {\"question\": \"What are the types of agent memory?\"}\n",
    "\n",
    "for output in app.stream(inputs):\n",
    "    for key, value in output.items():\n",
    "        pprint.pprint(f\"Node: '{key}': \")\n",
    "\n",
    "    pprint.pprint(\"\\n---\\n\")\n",
    "\n",
    "pprint.pprint(value['generation'])"
   ]
  },
  {
   "cell_type": "code",
   "execution_count": 75,
   "id": "390d7252",
   "metadata": {},
   "outputs": [
    {
     "name": "stdout",
     "output_type": "stream",
     "text": [
      "---ROUTE QUESTION---\n",
      "---ROUTE QUESTION TO LLM---\n",
      "---LLM FALBACK---\n",
      "\"Node: 'llm_fallback': \"\n",
      "'\\n---\\n'\n",
      "(\"Hello! As an AI, I don't have feelings, but I'm functioning well and ready \"\n",
      " 'to assist you. How can I help you today?')\n"
     ]
    }
   ],
   "source": [
    "inputs = {\"question\": \"Hello, how are you?\"}\n",
    "\n",
    "for output in app.stream(inputs):\n",
    "    for key, value in output.items():\n",
    "        pprint.pprint(f\"Node: '{key}': \")\n",
    "\n",
    "    pprint.pprint(\"\\n---\\n\")\n",
    "\n",
    "pprint.pprint(value['generation'])"
   ]
  },
  {
   "cell_type": "code",
   "execution_count": null,
   "id": "a4cf0181",
   "metadata": {},
   "outputs": [],
   "source": []
  }
 ],
 "metadata": {
  "kernelspec": {
   "display_name": "nlpReserch",
   "language": "python",
   "name": "python3"
  },
  "language_info": {
   "codemirror_mode": {
    "name": "ipython",
    "version": 3
   },
   "file_extension": ".py",
   "mimetype": "text/x-python",
   "name": "python",
   "nbconvert_exporter": "python",
   "pygments_lexer": "ipython3",
   "version": "3.11.9"
  }
 },
 "nbformat": 4,
 "nbformat_minor": 5
}
