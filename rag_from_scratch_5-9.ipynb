{
 "cells": [
  {
   "cell_type": "code",
   "execution_count": 1,
   "id": "9efd3f51",
   "metadata": {},
   "outputs": [
    {
     "name": "stdout",
     "output_type": "stream",
     "text": [
      "Requirement already satisfied: dotenv in c:\\users\\admin\\anaconda3\\envs\\nlpreserch\\lib\\site-packages (0.9.9)\n",
      "Requirement already satisfied: python-dotenv in c:\\users\\admin\\anaconda3\\envs\\nlpreserch\\lib\\site-packages (from dotenv) (1.0.1)\n"
     ]
    }
   ],
   "source": [
    "!pip install dotenv"
   ]
  },
  {
   "cell_type": "code",
   "execution_count": 2,
   "id": "68d949e8",
   "metadata": {},
   "outputs": [
    {
     "data": {
      "text/plain": [
       "True"
      ]
     },
     "execution_count": 2,
     "metadata": {},
     "output_type": "execute_result"
    }
   ],
   "source": [
    "import dotenv\n",
    "dotenv.load_dotenv()"
   ]
  },
  {
   "cell_type": "markdown",
   "id": "fa04ebc4",
   "metadata": {},
   "source": [
    "# Part 5: Multi Query"
   ]
  },
  {
   "cell_type": "code",
   "execution_count": 3,
   "id": "bde1502c",
   "metadata": {},
   "outputs": [
    {
     "name": "stderr",
     "output_type": "stream",
     "text": [
      "USER_AGENT environment variable not set, consider setting it to identify your requests.\n"
     ]
    }
   ],
   "source": [
    "import bs4\n",
    "from langchain_community.document_loaders import WebBaseLoader\n",
    "\n",
    "loader = WebBaseLoader(\n",
    "    web_paths=('https://lilianweng.github.io/posts/2023-06-23-agent/',),\n",
    "    bs_kwargs=dict(\n",
    "        parse_only=bs4.SoupStrainer(\n",
    "            class_=(\"post-content\", \"post-title\", \"post-header\")\n",
    "        )\n",
    "    )\n",
    ")\n",
    "blog_docs = loader.load()\n",
    "\n",
    "from langchain.text_splitter import RecursiveCharacterTextSplitter\n",
    "text_splitter = RecursiveCharacterTextSplitter.from_tiktoken_encoder(\n",
    "    chunk_size=300,\n",
    "    chunk_overlap=50\n",
    ")\n",
    "\n",
    "splits = text_splitter.split_documents(blog_docs)\n",
    "\n",
    "from langchain_google_genai import GoogleGenerativeAIEmbeddings\n",
    "from langchain_community.vectorstores import Chroma\n",
    "\n",
    "vectorstore = Chroma.from_documents(documents=splits,\n",
    "                                    embedding=GoogleGenerativeAIEmbeddings(model=\"models/embedding-001\"))\n",
    "\n",
    "retriever = vectorstore.as_retriever()"
   ]
  },
  {
   "cell_type": "code",
   "execution_count": 4,
   "id": "a02272b8",
   "metadata": {},
   "outputs": [],
   "source": [
    "from langchain.prompts import ChatPromptTemplate\n",
    "\n",
    "# Multi Query: Different Perspectives\n",
    "template = \"\"\"You are an AI language model assistant. Your task is to generate five \n",
    "different versions of the given user question to retrieve relevant documents from a vector \n",
    "database. By generating multiple perspectives on the user question, your goal is to help\n",
    "the user overcome some of the limitations of the distance-based similarity search. \n",
    "Provide these alternative questions separated by newlines. Original question: {question}\"\"\"\n",
    "prompt_perspectives = ChatPromptTemplate.from_template(template)\n",
    "\n",
    "from langchain_core.output_parsers import StrOutputParser\n",
    "from langchain_google_genai import ChatGoogleGenerativeAI\n",
    "generate_queries = (\n",
    "    prompt_perspectives \n",
    "    | ChatGoogleGenerativeAI(model=\"gemini-2.0-flash\",temperature=0) \n",
    "    | StrOutputParser() \n",
    "    | (lambda x: x.split(\"\\n\"))\n",
    ")"
   ]
  },
  {
   "cell_type": "code",
   "execution_count": 5,
   "id": "afaea1d7",
   "metadata": {},
   "outputs": [
    {
     "name": "stderr",
     "output_type": "stream",
     "text": [
      "C:\\Users\\Admin\\AppData\\Local\\Temp\\ipykernel_12776\\103685897.py:7: LangChainBetaWarning: The function `loads` is in beta. It is actively being worked on, so the API may change.\n",
      "  return [loads(doc) for doc in unique_docs]\n"
     ]
    },
    {
     "data": {
      "text/plain": [
       "6"
      ]
     },
     "execution_count": 5,
     "metadata": {},
     "output_type": "execute_result"
    }
   ],
   "source": [
    "from langchain.load import dumps, loads\n",
    "\n",
    "def get_unique_union(documents: list[list]):\n",
    "    \"\"\" Unique union of retrieved docs\"\"\"\n",
    "    flattened_docs = [dumps(doc) for sublist in documents for doc in sublist]\n",
    "    unique_docs = list(set(flattened_docs))\n",
    "    return [loads(doc) for doc in unique_docs]\n",
    "\n",
    "question = \"What is task decomposition for LLM agents?\"\n",
    "retrieval_chain = generate_queries | retriever.map() | get_unique_union\n",
    "docs = retrieval_chain.invoke({\"question\": question})\n",
    "len(docs)"
   ]
  },
  {
   "cell_type": "code",
   "execution_count": 6,
   "id": "e5fc4592",
   "metadata": {},
   "outputs": [
    {
     "data": {
      "text/plain": [
       "'Task decomposition for LLM agents is the process of breaking down large, complex tasks into smaller, more manageable subgoals. This enables the agent to handle complex tasks more efficiently. It can be achieved through techniques like Chain of Thought (CoT), which instructs the model to \"think step by step,\" or Tree of Thoughts, which explores multiple reasoning possibilities at each step. Task decomposition can be done by LLM with simple prompting, by using task-specific instructions, or with human inputs.'"
      ]
     },
     "execution_count": 6,
     "metadata": {},
     "output_type": "execute_result"
    }
   ],
   "source": [
    "from operator import itemgetter\n",
    "\n",
    "template = \"\"\"Answer the folowing question based on this context: \n",
    "\n",
    "{context}\n",
    "\n",
    "Question: {question}\n",
    "\"\"\"\n",
    "prompt = ChatPromptTemplate.from_template(template)\n",
    "\n",
    "llm = ChatGoogleGenerativeAI(model=\"gemini-2.0-flash\", temperature=0)\n",
    "\n",
    "final_rag_chain = (\n",
    "    {\"context\": retrieval_chain,\n",
    "     \"question\":itemgetter(\"question\")}\n",
    "     | prompt\n",
    "     | llm\n",
    "     | StrOutputParser()\n",
    ")\n",
    "\n",
    "final_rag_chain.invoke({\"question\":question})"
   ]
  },
  {
   "cell_type": "markdown",
   "id": "49249447",
   "metadata": {},
   "source": [
    "# Part 6: Rag-Fusion"
   ]
  },
  {
   "cell_type": "code",
   "execution_count": 7,
   "id": "563a7583",
   "metadata": {},
   "outputs": [],
   "source": [
    "from langchain.prompts import ChatPromptTemplate\n",
    "\n",
    "# RAG-Fusion: Related\n",
    "template = \"\"\"You are a helpful assistant that generates multiple search queries based on a single input query. \\n\n",
    "Generate multiple search queries related to: {question} \\n\n",
    "Output (4 queries):\"\"\"\n",
    "prompt_rag_fusion = ChatPromptTemplate.from_template(template)"
   ]
  },
  {
   "cell_type": "code",
   "execution_count": 8,
   "id": "2f8d0102",
   "metadata": {},
   "outputs": [],
   "source": [
    "from langchain_core.output_parsers import StrOutputParser\n",
    "from langchain_google_genai import ChatGoogleGenerativeAI\n",
    "generate_queries = (\n",
    "    prompt_rag_fusion\n",
    "    | ChatGoogleGenerativeAI(model=\"gemini-2.0-flash\", temperature=0)\n",
    "    | StrOutputParser()\n",
    "    | (lambda x: x.split('\\n'))\n",
    ")"
   ]
  },
  {
   "cell_type": "code",
   "execution_count": 9,
   "id": "0811a073",
   "metadata": {},
   "outputs": [
    {
     "data": {
      "text/plain": [
       "10"
      ]
     },
     "execution_count": 9,
     "metadata": {},
     "output_type": "execute_result"
    }
   ],
   "source": [
    "from langchain.load import dumps, loads\n",
    "\n",
    "def reciprocal_rank_fusion(results: list[list], k=60):\n",
    "    fused_scores = {}\n",
    "    for docs in results:\n",
    "        for rank, doc in enumerate(docs):\n",
    "            doc_str = dumps(doc)\n",
    "            if doc_str not in fused_scores:\n",
    "                fused_scores[doc_str] = 0\n",
    "            previus_score = fused_scores[doc_str]\n",
    "            fused_scores[doc_str]+= 1 / (rank+k)\n",
    "    reranked_results = [\n",
    "        (loads(doc), score)\n",
    "        for doc, score in sorted(fused_scores.items(), key=lambda x: x[1], reverse=True)\n",
    "    ]\n",
    "    return reranked_results\n",
    "\n",
    "retrieval_chain_rag_fusion = generate_queries | retriever.map() | reciprocal_rank_fusion\n",
    "\n",
    "docs = retrieval_chain_rag_fusion.invoke({\"question\": question})\n",
    "len(docs)\n",
    "    "
   ]
  },
  {
   "cell_type": "code",
   "execution_count": 10,
   "id": "91871cdf",
   "metadata": {},
   "outputs": [
    {
     "data": {
      "text/plain": [
       "'Task decomposition for LLM agents involves breaking down large tasks into smaller, more manageable subgoals to handle complex tasks efficiently. This can be achieved through:\\n\\n*   Using LLMs with simple prompting techniques like \"Steps for XYZ. 1.\" or \"What are the subgoals for achieving XYZ?\".\\n*   Employing task-specific instructions (e.g., \"Write a story outline\" for writing a novel).\\n*   Incorporating human inputs.\\n\\nTechniques like Chain of Thought (CoT) and Tree of Thoughts (ToT) are used to enhance model performance on complex tasks by decomposing them into smaller steps and exploring multiple reasoning possibilities. CoT instructs the model to \"think step by step,\" while ToT extends CoT by generating multiple thoughts per step, creating a tree structure for search.'"
      ]
     },
     "execution_count": 10,
     "metadata": {},
     "output_type": "execute_result"
    }
   ],
   "source": [
    "from langchain_core.runnables import RunnablePassthrough\n",
    "\n",
    "final_rag_chain = (\n",
    "    {'context': retrieval_chain_rag_fusion,\n",
    "     'question': itemgetter('question')}\n",
    "     | prompt\n",
    "     | llm\n",
    "     | StrOutputParser()\n",
    ")\n",
    "\n",
    "final_rag_chain.invoke({\"question\": question})"
   ]
  },
  {
   "cell_type": "markdown",
   "id": "d341f607",
   "metadata": {},
   "source": [
    "# Part 7"
   ]
  },
  {
   "cell_type": "code",
   "execution_count": 11,
   "id": "3f51074a",
   "metadata": {},
   "outputs": [],
   "source": [
    "from langchain.prompts import ChatPromptTemplate\n",
    "template = \"\"\"You are a helpful assistant that generates multiple sub-questions related to an input question. \\n\n",
    "The goal is to break down the input into a set of sub-problems / sub-questions that can be answers in isolation. \\n\n",
    "Generate multiple search queries related to: {question} \\n\n",
    "Output (3 queries):\"\"\"\n",
    "prompt_decomposition = ChatPromptTemplate.from_template(template)"
   ]
  },
  {
   "cell_type": "code",
   "execution_count": 12,
   "id": "096ae5a6",
   "metadata": {},
   "outputs": [],
   "source": [
    "from langchain_google_genai import ChatGoogleGenerativeAI\n",
    "from langchain_core.output_parsers import StrOutputParser\n",
    "\n",
    "generate_queries_decomposition = (prompt_decomposition | llm | StrOutputParser() | (lambda x: x.split(\"\\n\")))\n",
    "\n",
    "question = \"What are the main components of LLM powered autonomus agent system\"\n",
    "questions = generate_queries_decomposition.invoke({\"question\": question})"
   ]
  },
  {
   "cell_type": "code",
   "execution_count": 13,
   "id": "6dfd4c68",
   "metadata": {},
   "outputs": [
    {
     "data": {
      "text/plain": [
       "['Here are 3 search queries related to the question \"What are the main components of an LLM-powered autonomous agent system?\":',\n",
       " '',\n",
       " '1.  **\"LLM autonomous agent architecture components\"** (Focuses on the architectural breakdown)',\n",
       " '2.  **\"Key modules LLM autonomous agents\"** (Uses the term \"modules\" as a synonym for components)',\n",
       " '3.  **\"LLM agent planning memory execution\"** (Highlights the core functional aspects often associated with autonomous agents)']"
      ]
     },
     "execution_count": 13,
     "metadata": {},
     "output_type": "execute_result"
    }
   ],
   "source": [
    "questions"
   ]
  },
  {
   "cell_type": "code",
   "execution_count": 14,
   "id": "2772f85d",
   "metadata": {},
   "outputs": [],
   "source": [
    "# Prompt\n",
    "template = \"\"\"Here is the question you need to answer:\n",
    "\n",
    "\\n --- \\n {question} \\n --- \\n\n",
    "\n",
    "Here is any available background question + answer pairs:\n",
    "\n",
    "\\n --- \\n {q_a_pairs} \\n --- \\n\n",
    "\n",
    "Here is additional context relevant to the question: \n",
    "\n",
    "\\n --- \\n {context} \\n --- \\n\n",
    "\n",
    "Use the above context and any background question + answer pairs to answer the question: \\n {question}\n",
    "\"\"\"\n",
    "\n",
    "decomposition_prompt = ChatPromptTemplate.from_template(template)"
   ]
  },
  {
   "cell_type": "code",
   "execution_count": null,
   "id": "aa7ecb55",
   "metadata": {},
   "outputs": [],
   "source": []
  },
  {
   "cell_type": "code",
   "execution_count": 15,
   "id": "6c77109f",
   "metadata": {},
   "outputs": [],
   "source": [
    "from operator import itemgetter\n",
    "def format_qa_pair(question, answer):\n",
    "    \"\"\"Format Q and A pair\"\"\"\n",
    "    formatted_string = \"\"\n",
    "    formatted_string += f\"Question: {question}\\nAnswer: {answer}\\n\\n\"\n",
    "    return formatted_string\n",
    "\n",
    "# llm\n",
    "\n",
    "q_a_pairs = \"\"\n",
    "\n",
    "for q in questions[2:]:\n",
    "    rag_chain = (\n",
    "        {\"context\":itemgetter(\"question\") | retriever,\n",
    "         \"question\":itemgetter(\"question\"),\n",
    "         \"q_a_pairs\":itemgetter(\"q_a_pairs\")}\n",
    "        | decomposition_prompt\n",
    "        | llm\n",
    "        | StrOutputParser()\n",
    "    )\n",
    "    answer = rag_chain.invoke({'question':q, \"q_a_pairs\":q_a_pairs})\n",
    "    q_a_pair = format_qa_pair(q, answer)\n",
    "    q_a_pairs = q_a_pairs + \"\\n---\\n\"+ q_a_pair"
   ]
  },
  {
   "cell_type": "code",
   "execution_count": 16,
   "id": "5d2fcff9",
   "metadata": {},
   "outputs": [
    {
     "name": "stdout",
     "output_type": "stream",
     "text": [
      "\n",
      "---\n",
      "Question: 1.  **\"LLM autonomous agent architecture components\"** (Focuses on the architectural breakdown)\n",
      "Answer: Based on the provided context, an LLM-powered autonomous agent system architecture includes the following key components:\n",
      "\n",
      "1.  **LLM as the Brain:** The large language model (LLM) acts as the core controller, driving the agent's decision-making and problem-solving processes.\n",
      "\n",
      "2.  **Planning:**\n",
      "    *   **Subgoal and Decomposition:** The agent breaks down large, complex tasks into smaller, more manageable subgoals.\n",
      "    *   **Reflection and Refinement:** The agent self-reflects on past actions, learns from mistakes, and refines its approach for future steps.\n",
      "\n",
      "3.  **Memory:**\n",
      "    *   **Short-term memory:** In-context learning leverages the model's short-term memory.\n",
      "    *   **Long-term memory:** An external vector store provides the agent with the ability to retain and recall information over extended periods.\n",
      "\n",
      "4.  **Tool Use:** The agent learns to call external APIs to access information missing from the model's weights. This includes current information, code execution capabilities, and access to proprietary information sources.\n",
      "\n",
      "\n",
      "---\n",
      "Question: 2.  **\"Key modules LLM autonomous agents\"** (Uses the term \"modules\" as a synonym for components)\n",
      "Answer: The key modules (components) of an LLM-powered autonomous agent are:\n",
      "\n",
      "1.  **LLM as the Brain:** The LLM serves as the core controller, responsible for decision-making and problem-solving.\n",
      "\n",
      "2.  **Planning:** This module involves:\n",
      "    *   **Subgoal and Decomposition:** Breaking down complex tasks into smaller, manageable subgoals.\n",
      "    *   **Reflection and Refinement:** Self-criticism and learning from past actions to improve future performance.\n",
      "\n",
      "3.  **Memory:** This module includes both:\n",
      "    *   **Short-term memory:** Utilizing in-context learning.\n",
      "    *   **Long-term memory:** Retaining and recalling information over extended periods, often using an external vector store.\n",
      "\n",
      "4.  **Tool Use:**  The agent's ability to call external APIs to access information not present in the LLM's weights, such as current information, code execution capabilities, and proprietary data.\n",
      "\n",
      "\n",
      "---\n",
      "Question: 3.  **\"LLM agent planning memory execution\"** (Highlights the core functional aspects often associated with autonomous agents)\n",
      "Answer: LLM agent planning, memory, and execution are core functional aspects that enable autonomous behavior. Here's a breakdown of each:\n",
      "\n",
      "*   **Planning:** This involves breaking down complex tasks into smaller, manageable subgoals (Subgoal and Decomposition). The agent also engages in Reflection and Refinement, learning from past actions to improve future performance.\n",
      "\n",
      "*   **Memory:** LLM agents utilize both short-term and long-term memory. Short-term memory is achieved through in-context learning. Long-term memory involves retaining and recalling information over extended periods, often using an external vector store for efficient retrieval.\n",
      "\n",
      "*   **Execution:** This involves the agent taking actions based on its plans and memory. A key aspect of execution is tool use, where the agent calls external APIs to access information not present in the LLM's weights. This includes current information, code execution capabilities, and access to proprietary information sources.\n",
      "\n",
      "\n"
     ]
    }
   ],
   "source": [
    "print(q_a_pairs)"
   ]
  },
  {
   "cell_type": "markdown",
   "id": "0ef07c4c",
   "metadata": {},
   "source": [
    "# Part 8 Step Back"
   ]
  },
  {
   "cell_type": "code",
   "execution_count": 17,
   "id": "ab92e9c4",
   "metadata": {},
   "outputs": [],
   "source": [
    "# Few Shot Examples\n",
    "from langchain_core.prompts import ChatPromptTemplate, FewShotChatMessagePromptTemplate\n",
    "examples = [\n",
    "    {\n",
    "        \"input\": \"Could the members of The Police perform lawful arrests?\",\n",
    "        \"output\": \"what can the members of The Police do?\",\n",
    "    },\n",
    "    {\n",
    "        \"input\": \"Jan Sindel’s was born in what country?\",\n",
    "        \"output\": \"what is Jan Sindel’s personal history?\",\n",
    "    },\n",
    "]\n",
    "# We now transform these to example messages\n",
    "example_prompt = ChatPromptTemplate.from_messages(\n",
    "    [\n",
    "        (\"human\", \"{input}\"),\n",
    "        (\"ai\", \"{output}\"),\n",
    "    ]\n",
    ")\n",
    "few_shot_prompt = FewShotChatMessagePromptTemplate(\n",
    "    example_prompt=example_prompt,\n",
    "    examples=examples,\n",
    ")\n",
    "prompt = ChatPromptTemplate.from_messages(\n",
    "    [\n",
    "        (\n",
    "            \"system\",\n",
    "            \"\"\"You are an expert at world knowledge. Your task is to step back and paraphrase a question to a more generic step-back question, which is easier to answer. Here are a few examples:\"\"\",\n",
    "        ),\n",
    "        # Few shot examples\n",
    "        few_shot_prompt,\n",
    "        # New question\n",
    "        (\"user\", \"{question}\"),\n",
    "    ]\n",
    ")"
   ]
  },
  {
   "cell_type": "code",
   "execution_count": 21,
   "id": "28f73870",
   "metadata": {},
   "outputs": [],
   "source": [
    "from langchain_groq import ChatGroq\n",
    "dotenv.load_dotenv()\n",
    "llm = ChatGoogleGenerativeAI(model=\"gemini-2.0-flash\")"
   ]
  },
  {
   "cell_type": "code",
   "execution_count": 22,
   "id": "2449c678",
   "metadata": {},
   "outputs": [
    {
     "data": {
      "text/plain": [
       "'What are the general strategies for problem-solving used by LLM agents?'"
      ]
     },
     "execution_count": 22,
     "metadata": {},
     "output_type": "execute_result"
    }
   ],
   "source": [
    "generate_queries_step_back = prompt | llm | StrOutputParser()\n",
    "question = \"What is task decomposition for LLM agents?\"\n",
    "generate_queries_step_back.invoke({\"question\": question})"
   ]
  },
  {
   "cell_type": "code",
   "execution_count": 23,
   "id": "e0e463dd",
   "metadata": {},
   "outputs": [
    {
     "data": {
      "text/plain": [
       "'Task decomposition is a crucial component of LLM-powered autonomous agents, especially when dealing with complicated tasks that involve many steps. It refers to the process of breaking down a large task into smaller, more manageable subgoals. This enables the agent to handle complex tasks more efficiently.\\n\\nHere\\'s a breakdown of task decomposition techniques:\\n\\n*   **Chain of Thought (CoT):** This is a standard prompting technique where the LLM is instructed to \"think step by step.\" This decomposes hard tasks into smaller, simpler steps, utilizing more computation at test time. CoT transforms big tasks into multiple manageable tasks and sheds light on the model’s thinking process.\\n*   **Tree of Thoughts (ToT):** This extends CoT by exploring multiple reasoning possibilities at each step. It decomposes the problem into multiple thought steps and generates multiple thoughts per step, creating a tree structure. The search process can be performed using Breadth-First Search (BFS) or Depth-First Search (DFS), with each state evaluated by a classifier or majority vote.\\n*   **Methods for Task Decomposition:**\\n    1.  **LLM with simple prompting:** Using prompts like \"Steps for XYZ. 1...\" or \"What are the subgoals for achieving XYZ?\"\\n    2.  **Task-specific instructions:** Providing instructions tailored to the task, such as \"Write a story outline\" for writing a novel.\\n    3.  **Human inputs:** Incorporating human input to guide the decomposition process.'"
      ]
     },
     "execution_count": 23,
     "metadata": {},
     "output_type": "execute_result"
    }
   ],
   "source": [
    "\n",
    "from langchain_core.runnables import RunnablePassthrough, RunnableLambda\n",
    "# Response prompt \n",
    "response_prompt_template = \"\"\"You are an expert of world knowledge. I am going to ask you a question. Your response should be comprehensive and not contradicted with the following context if they are relevant. Otherwise, ignore them if they are not relevant.\n",
    "\n",
    "# {normal_context}\n",
    "# {step_back_context}\n",
    "\n",
    "# Original Question: {question}\n",
    "# Answer:\"\"\"\n",
    "response_prompt = ChatPromptTemplate.from_template(response_prompt_template)\n",
    "\n",
    "chain = (\n",
    "    {\n",
    "        # Retrieve context using the normal question\n",
    "        \"normal_context\": RunnableLambda(lambda x: x[\"question\"]) | retriever,\n",
    "        # Retrieve context using the step-back question\n",
    "        \"step_back_context\": generate_queries_step_back | retriever,\n",
    "        # Pass on the question\n",
    "        \"question\": lambda x: x[\"question\"],\n",
    "    }\n",
    "    | response_prompt\n",
    "    | llm\n",
    "    | StrOutputParser()\n",
    ")\n",
    "\n",
    "chain.invoke({\"question\": question})"
   ]
  },
  {
   "cell_type": "markdown",
   "id": "7a7eccf3",
   "metadata": {},
   "source": [
    "# HyDE"
   ]
  },
  {
   "cell_type": "code",
   "execution_count": 25,
   "id": "29f3ee46",
   "metadata": {},
   "outputs": [
    {
     "data": {
      "text/plain": [
       "'Task decomposition for Large Language Model (LLM) agents refers to the process of breaking down a complex, high-level goal or objective into a series of smaller, more manageable sub-tasks. This decomposition is crucial for enabling LLM agents to effectively tackle tasks that require multi-step reasoning, planning, and execution. Instead of attempting to directly address the entire complex task in a single step, the LLM agent leverages its reasoning capabilities to identify the constituent sub-tasks, define their dependencies, and then sequentially address each sub-task. This modular approach not only simplifies the overall problem but also allows for error recovery, progress tracking, and the integration of external tools or knowledge sources at each sub-task level. Effective task decomposition often involves defining clear criteria for sub-task completion, specifying the information required for each sub-task, and determining the optimal order in which the sub-tasks should be executed to achieve the overall goal. Different strategies for task decomposition exist, including hierarchical planning, chain-of-thought prompting, and the use of specialized planning modules, each with its own strengths and weaknesses depending on the nature of the task and the capabilities of the LLM agent.'"
      ]
     },
     "execution_count": 25,
     "metadata": {},
     "output_type": "execute_result"
    }
   ],
   "source": [
    "template = \"\"\"Please write a scientific paper passsage to answer the question\n",
    "Question: {question}\n",
    "Passage:\"\"\"\n",
    "prompt_hyde = ChatPromptTemplate.from_template(template)\n",
    "generate_docs_for_retrieval = (\n",
    "    prompt_hyde | llm | StrOutputParser()\n",
    ")\n",
    "question = \"What is task decomposition for LLM agents?\"\n",
    "generate_docs_for_retrieval.invoke({\"question\":question})"
   ]
  },
  {
   "cell_type": "code",
   "execution_count": 26,
   "id": "71a3b4ee",
   "metadata": {},
   "outputs": [
    {
     "data": {
      "text/plain": [
       "[Document(metadata={'source': 'https://lilianweng.github.io/posts/2023-06-23-agent/'}, page_content='Component One: Planning#\\nA complicated task usually involves many steps. An agent needs to know what they are and plan ahead.\\nTask Decomposition#\\nChain of thought (CoT; Wei et al. 2022) has become a standard prompting technique for enhancing model performance on complex tasks. The model is instructed to “think step by step” to utilize more test-time computation to decompose hard tasks into smaller and simpler steps. CoT transforms big tasks into multiple manageable tasks and shed lights into an interpretation of the model’s thinking process.\\nTree of Thoughts (Yao et al. 2023) extends CoT by exploring multiple reasoning possibilities at each step. It first decomposes the problem into multiple thought steps and generates multiple thoughts per step, creating a tree structure. The search process can be BFS (breadth-first search) or DFS (depth-first search) with each state evaluated by a classifier (via a prompt) or majority vote.\\nTask decomposition can be done (1) by LLM with simple prompting like \"Steps for XYZ.\\\\n1.\", \"What are the subgoals for achieving XYZ?\", (2) by using task-specific instructions; e.g. \"Write a story outline.\" for writing a novel, or (3) with human inputs.'),\n",
       " Document(metadata={'source': 'https://lilianweng.github.io/posts/2023-06-23-agent/'}, page_content='LLM Powered Autonomous Agents\\n    \\nDate: June 23, 2023  |  Estimated Reading Time: 31 min  |  Author: Lilian Weng\\n\\n\\nBuilding agents with LLM (large language model) as its core controller is a cool concept. Several proof-of-concepts demos, such as AutoGPT, GPT-Engineer and BabyAGI, serve as inspiring examples. The potentiality of LLM extends beyond generating well-written copies, stories, essays and programs; it can be framed as a powerful general problem solver.\\nAgent System Overview#\\nIn a LLM-powered autonomous agent system, LLM functions as the agent’s brain, complemented by several key components:\\n\\nPlanning\\n\\nSubgoal and decomposition: The agent breaks down large tasks into smaller, manageable subgoals, enabling efficient handling of complex tasks.\\nReflection and refinement: The agent can do self-criticism and self-reflection over past actions, learn from mistakes and refine them for future steps, thereby improving the quality of final results.\\n\\n\\nMemory'),\n",
       " Document(metadata={'source': 'https://lilianweng.github.io/posts/2023-06-23-agent/'}, page_content='Another quite distinct approach, LLM+P (Liu et al. 2023), involves relying on an external classical planner to do long-horizon planning. This approach utilizes the Planning Domain Definition Language (PDDL) as an intermediate interface to describe the planning problem. In this process, LLM (1) translates the problem into “Problem PDDL”, then (2) requests a classical planner to generate a PDDL plan based on an existing “Domain PDDL”, and finally (3) translates the PDDL plan back into natural language. Essentially, the planning step is outsourced to an external tool, assuming the availability of domain-specific PDDL and a suitable planner which is common in certain robotic setups but not in many other domains.\\nSelf-Reflection#\\nSelf-reflection is a vital aspect that allows autonomous agents to improve iteratively by refining past action decisions and correcting previous mistakes. It plays a crucial role in real-world tasks where trial and error are inevitable.\\nReAct (Yao et al. 2023) integrates reasoning and acting within LLM by extending the action space to be a combination of task-specific discrete actions and the language space. The former enables LLM to interact with the environment (e.g. use Wikipedia search API), while the latter prompting LLM to generate reasoning traces in natural language.\\nThe ReAct prompt template incorporates explicit steps for LLM to think, roughly formatted as:'),\n",
       " Document(metadata={'source': 'https://lilianweng.github.io/posts/2023-06-23-agent/'}, page_content='Or\\n@article{weng2023agent,\\n  title   = \"LLM-powered Autonomous Agents\",\\n  author  = \"Weng, Lilian\",\\n  journal = \"lilianweng.github.io\",\\n  year    = \"2023\",\\n  month   = \"Jun\",\\n  url     = \"https://lilianweng.github.io/posts/2023-06-23-agent/\"\\n}\\nReferences#\\n[1] Wei et al. “Chain of thought prompting elicits reasoning in large language models.” NeurIPS 2022\\n[2] Yao et al. “Tree of Thoughts: Dliberate Problem Solving with Large Language Models.” arXiv preprint arXiv:2305.10601 (2023).\\n[3] Liu et al. “Chain of Hindsight Aligns Language Models with Feedback\\n“ arXiv preprint arXiv:2302.02676 (2023).\\n[4] Liu et al. “LLM+P: Empowering Large Language Models with Optimal Planning Proficiency” arXiv preprint arXiv:2304.11477 (2023).')]"
      ]
     },
     "execution_count": 26,
     "metadata": {},
     "output_type": "execute_result"
    }
   ],
   "source": [
    "retrieval_chain = generate_docs_for_retrieval | retriever\n",
    "retrieved_docs = retrieval_chain.invoke({\"question\": question})\n",
    "retrieved_docs"
   ]
  },
  {
   "cell_type": "code",
   "execution_count": 28,
   "id": "45fe80b1",
   "metadata": {},
   "outputs": [
    {
     "data": {
      "text/plain": [
       "'Task decomposition is the process of breaking down large, complicated tasks into smaller, more manageable subgoals. This enables LLM agents to handle complex tasks more efficiently. Task decomposition can be done by:\\n\\n1.  LLM with simple prompting (e.g., \"Steps for XYZ. 1.\", \"What are the subgoals for achieving XYZ?\")\\n2.  Using task-specific instructions (e.g., \"Write a story outline.\" for writing a novel)\\n3.  With human inputs.\\n\\nTechniques like Chain of Thought (CoT) and Tree of Thoughts are examples of how task decomposition can be implemented. CoT instructs the model to \"think step by step,\" while Tree of Thoughts explores multiple reasoning possibilities at each step, creating a tree structure of thoughts.'"
      ]
     },
     "execution_count": 28,
     "metadata": {},
     "output_type": "execute_result"
    }
   ],
   "source": [
    "template = \"\"\"Answer the folowing question based on this context:\n",
    "\n",
    "{context}\n",
    "\n",
    "Question: {question}\"\"\"\n",
    "\n",
    "prompt=  ChatPromptTemplate.from_template(template)\n",
    "final_rag_chain = (\n",
    "    prompt\n",
    "    | llm\n",
    "    | StrOutputParser()\n",
    ")\n",
    "final_rag_chain.invoke({\"context\": retrieved_docs, \"question\":question})"
   ]
  },
  {
   "cell_type": "code",
   "execution_count": null,
   "id": "da09af2c",
   "metadata": {},
   "outputs": [],
   "source": []
  }
 ],
 "metadata": {
  "kernelspec": {
   "display_name": "nlpReserch",
   "language": "python",
   "name": "python3"
  },
  "language_info": {
   "codemirror_mode": {
    "name": "ipython",
    "version": 3
   },
   "file_extension": ".py",
   "mimetype": "text/x-python",
   "name": "python",
   "nbconvert_exporter": "python",
   "pygments_lexer": "ipython3",
   "version": "3.11.9"
  }
 },
 "nbformat": 4,
 "nbformat_minor": 5
}
